{
 "cells": [
  {
   "cell_type": "code",
   "execution_count": 1,
   "id": "f958868b-6fe0-42bf-8acb-5ef0ea044bdc",
   "metadata": {},
   "outputs": [],
   "source": [
    "import osmnx as ox\n",
    "import networkx as nx\n",
    "import pandas as pd\n",
    "data = pd.read_csv('AB_NYC_2019.csv')"
   ]
  },
  {
   "cell_type": "code",
   "execution_count": 2,
   "id": "5e351163-36c9-464b-8135-6b25bd8d59cb",
   "metadata": {},
   "outputs": [],
   "source": [
    "target = data[\n",
    "    (data.neighbourhood_group == 'Manhattan') &\n",
    "    (data.price < data.price.quantile(.2)) &\n",
    "    (data.minimum_nights < 3) &\n",
    "    (data.number_of_reviews > data.number_of_reviews.mean()) &\n",
    "    (data.room_type == 'Private room') &\n",
    "    (data.availability_365 > 300)\n",
    "]"
   ]
  },
  {
   "cell_type": "code",
   "execution_count": 3,
   "id": "fe3b9a31-8372-4b13-a296-ece8fbc4b322",
   "metadata": {},
   "outputs": [],
   "source": [
    "G = ox.graph_from_place('Manhattan, New York, USA', network_type='walk')"
   ]
  },
  {
   "cell_type": "code",
   "execution_count": 4,
   "id": "d57d3468-72a1-49ec-a6b7-573f6001bee3",
   "metadata": {},
   "outputs": [
    {
     "data": {
      "text/plain": [
       "<matplotlib.collections.PathCollection at 0x7f3cd1bb2a00>"
      ]
     },
     "execution_count": 4,
     "metadata": {},
     "output_type": "execute_result"
    },
    {
     "data": {
      "image/png": "[encoded data removed]",
      "text/plain": [
       "<Figure size 360x360 with 1 Axes>"
      ]
     },
     "metadata": {},
     "output_type": "display_data"
    }
   ],
   "source": [
    "lat_target = target.latitude # массив координат отелей\n",
    "lng_target = target.longitude\n",
    "lat_ESB = 40.748817 # координаты Эмпайр-стейт-билдинг\n",
    "lng_ESB = -73.985428\n",
    "fig, ax = ox.plot_graph(G, figsize=(5,5), close=False, show=False)\n",
    "ax.scatter(lng_target, lat_target, c='red', s=100) # точки отелей\n",
    "ax.scatter(lng_ESB, lat_ESB, c='green', s=500) # точка Эмпайр-стейт-билдинг"
   ]
  },
  {
   "cell_type": "code",
   "execution_count": 5,
   "id": "9f057a7e-595c-4ecb-9ed7-72c14363551b",
   "metadata": {},
   "outputs": [
    {
     "name": "stderr",
     "output_type": "stream",
     "text": [
      "/opt/conda/lib/python3.9/site-packages/osmnx/distance.py:455: UserWarning: The `get_nearest_edges` function has been deprecated and will be removed in a future release. Use the more efficient `distance.nearest_edges` instead.\n",
      "  warnings.warn(msg)\n",
      "/opt/conda/lib/python3.9/site-packages/osmnx/distance.py:288: UserWarning: Geometry is in a geographic CRS. Results from 'distance' are likely incorrect. Use 'GeoSeries.to_crs()' to re-project geometries to a projected CRS before this operation.\n",
      "\n",
      "  dists = geoms.iloc[list(rtree.nearest(xy))].distance(Point(xy))\n",
      "/opt/conda/lib/python3.9/site-packages/osmnx/distance.py:288: UserWarning: Geometry is in a geographic CRS. Results from 'distance' are likely incorrect. Use 'GeoSeries.to_crs()' to re-project geometries to a projected CRS before this operation.\n",
      "\n",
      "  dists = geoms.iloc[list(rtree.nearest(xy))].distance(Point(xy))\n",
      "/opt/conda/lib/python3.9/site-packages/osmnx/distance.py:288: UserWarning: Geometry is in a geographic CRS. Results from 'distance' are likely incorrect. Use 'GeoSeries.to_crs()' to re-project geometries to a projected CRS before this operation.\n",
      "\n",
      "  dists = geoms.iloc[list(rtree.nearest(xy))].distance(Point(xy))\n",
      "/opt/conda/lib/python3.9/site-packages/osmnx/distance.py:288: UserWarning: Geometry is in a geographic CRS. Results from 'distance' are likely incorrect. Use 'GeoSeries.to_crs()' to re-project geometries to a projected CRS before this operation.\n",
      "\n",
      "  dists = geoms.iloc[list(rtree.nearest(xy))].distance(Point(xy))\n",
      "/opt/conda/lib/python3.9/site-packages/osmnx/distance.py:288: UserWarning: Geometry is in a geographic CRS. Results from 'distance' are likely incorrect. Use 'GeoSeries.to_crs()' to re-project geometries to a projected CRS before this operation.\n",
      "\n",
      "  dists = geoms.iloc[list(rtree.nearest(xy))].distance(Point(xy))\n",
      "/opt/conda/lib/python3.9/site-packages/osmnx/distance.py:288: UserWarning: Geometry is in a geographic CRS. Results from 'distance' are likely incorrect. Use 'GeoSeries.to_crs()' to re-project geometries to a projected CRS before this operation.\n",
      "\n",
      "  dists = geoms.iloc[list(rtree.nearest(xy))].distance(Point(xy))\n",
      "/opt/conda/lib/python3.9/site-packages/osmnx/distance.py:288: UserWarning: Geometry is in a geographic CRS. Results from 'distance' are likely incorrect. Use 'GeoSeries.to_crs()' to re-project geometries to a projected CRS before this operation.\n",
      "\n",
      "  dists = geoms.iloc[list(rtree.nearest(xy))].distance(Point(xy))\n",
      "/opt/conda/lib/python3.9/site-packages/osmnx/distance.py:288: UserWarning: Geometry is in a geographic CRS. Results from 'distance' are likely incorrect. Use 'GeoSeries.to_crs()' to re-project geometries to a projected CRS before this operation.\n",
      "\n",
      "  dists = geoms.iloc[list(rtree.nearest(xy))].distance(Point(xy))\n",
      "/opt/conda/lib/python3.9/site-packages/osmnx/distance.py:288: UserWarning: Geometry is in a geographic CRS. Results from 'distance' are likely incorrect. Use 'GeoSeries.to_crs()' to re-project geometries to a projected CRS before this operation.\n",
      "\n",
      "  dists = geoms.iloc[list(rtree.nearest(xy))].distance(Point(xy))\n",
      "/opt/conda/lib/python3.9/site-packages/osmnx/distance.py:288: UserWarning: Geometry is in a geographic CRS. Results from 'distance' are likely incorrect. Use 'GeoSeries.to_crs()' to re-project geometries to a projected CRS before this operation.\n",
      "\n",
      "  dists = geoms.iloc[list(rtree.nearest(xy))].distance(Point(xy))\n",
      "/opt/conda/lib/python3.9/site-packages/osmnx/distance.py:288: UserWarning: Geometry is in a geographic CRS. Results from 'distance' are likely incorrect. Use 'GeoSeries.to_crs()' to re-project geometries to a projected CRS before this operation.\n",
      "\n",
      "  dists = geoms.iloc[list(rtree.nearest(xy))].distance(Point(xy))\n",
      "/opt/conda/lib/python3.9/site-packages/osmnx/distance.py:288: UserWarning: Geometry is in a geographic CRS. Results from 'distance' are likely incorrect. Use 'GeoSeries.to_crs()' to re-project geometries to a projected CRS before this operation.\n",
      "\n",
      "  dists = geoms.iloc[list(rtree.nearest(xy))].distance(Point(xy))\n",
      "/opt/conda/lib/python3.9/site-packages/osmnx/distance.py:288: UserWarning: Geometry is in a geographic CRS. Results from 'distance' are likely incorrect. Use 'GeoSeries.to_crs()' to re-project geometries to a projected CRS before this operation.\n",
      "\n",
      "  dists = geoms.iloc[list(rtree.nearest(xy))].distance(Point(xy))\n",
      "/opt/conda/lib/python3.9/site-packages/osmnx/distance.py:288: UserWarning: Geometry is in a geographic CRS. Results from 'distance' are likely incorrect. Use 'GeoSeries.to_crs()' to re-project geometries to a projected CRS before this operation.\n",
      "\n",
      "  dists = geoms.iloc[list(rtree.nearest(xy))].distance(Point(xy))\n",
      "/opt/conda/lib/python3.9/site-packages/osmnx/distance.py:288: UserWarning: Geometry is in a geographic CRS. Results from 'distance' are likely incorrect. Use 'GeoSeries.to_crs()' to re-project geometries to a projected CRS before this operation.\n",
      "\n",
      "  dists = geoms.iloc[list(rtree.nearest(xy))].distance(Point(xy))\n",
      "/opt/conda/lib/python3.9/site-packages/osmnx/distance.py:288: UserWarning: Geometry is in a geographic CRS. Results from 'distance' are likely incorrect. Use 'GeoSeries.to_crs()' to re-project geometries to a projected CRS before this operation.\n",
      "\n",
      "  dists = geoms.iloc[list(rtree.nearest(xy))].distance(Point(xy))\n",
      "/opt/conda/lib/python3.9/site-packages/osmnx/distance.py:288: UserWarning: Geometry is in a geographic CRS. Results from 'distance' are likely incorrect. Use 'GeoSeries.to_crs()' to re-project geometries to a projected CRS before this operation.\n",
      "\n",
      "  dists = geoms.iloc[list(rtree.nearest(xy))].distance(Point(xy))\n",
      "/opt/conda/lib/python3.9/site-packages/osmnx/distance.py:288: UserWarning: Geometry is in a geographic CRS. Results from 'distance' are likely incorrect. Use 'GeoSeries.to_crs()' to re-project geometries to a projected CRS before this operation.\n",
      "\n",
      "  dists = geoms.iloc[list(rtree.nearest(xy))].distance(Point(xy))\n",
      "/opt/conda/lib/python3.9/site-packages/osmnx/distance.py:288: UserWarning: Geometry is in a geographic CRS. Results from 'distance' are likely incorrect. Use 'GeoSeries.to_crs()' to re-project geometries to a projected CRS before this operation.\n",
      "\n",
      "  dists = geoms.iloc[list(rtree.nearest(xy))].distance(Point(xy))\n",
      "/opt/conda/lib/python3.9/site-packages/osmnx/distance.py:288: UserWarning: Geometry is in a geographic CRS. Results from 'distance' are likely incorrect. Use 'GeoSeries.to_crs()' to re-project geometries to a projected CRS before this operation.\n",
      "\n",
      "  dists = geoms.iloc[list(rtree.nearest(xy))].distance(Point(xy))\n",
      "/opt/conda/lib/python3.9/site-packages/osmnx/distance.py:288: UserWarning: Geometry is in a geographic CRS. Results from 'distance' are likely incorrect. Use 'GeoSeries.to_crs()' to re-project geometries to a projected CRS before this operation.\n",
      "\n",
      "  dists = geoms.iloc[list(rtree.nearest(xy))].distance(Point(xy))\n",
      "/opt/conda/lib/python3.9/site-packages/osmnx/distance.py:387: UserWarning: The `get_nearest_edge` function has been deprecated and will be removed in a future release. Use the more efficient `distance.nearest_edges` instead.\n",
      "  warnings.warn(msg)\n",
      "/opt/conda/lib/python3.9/site-packages/osmnx/distance.py:288: UserWarning: Geometry is in a geographic CRS. Results from 'distance' are likely incorrect. Use 'GeoSeries.to_crs()' to re-project geometries to a projected CRS before this operation.\n",
      "\n",
      "  dists = geoms.iloc[list(rtree.nearest(xy))].distance(Point(xy))\n"
     ]
    }
   ],
   "source": [
    "nearest_edges = ox.get_nearest_edges(G, lng_target, lat_target)\n",
    "nearest_edge_ESB = ox.get_nearest_edge(G, (lat_ESB, lng_ESB))"
   ]
  },
  {
   "cell_type": "code",
   "execution_count": 6,
   "id": "28a38d19-24af-491b-9463-1bf5e18c06ba",
   "metadata": {},
   "outputs": [
    {
     "data": {
      "image/png": "[encoded data removed]",
      "text/plain": [
       "<Figure size 360x360 with 1 Axes>"
      ]
     },
     "metadata": {},
     "output_type": "display_data"
    }
   ],
   "source": [
    "route = nx.shortest_path(G, nearest_edge_ESB[0], nearest_edges[0][0])\n",
    "fig, ax = ox.plot_graph_route(G, route, figsize=(5,5))"
   ]
  },
  {
   "cell_type": "code",
   "execution_count": 7,
   "id": "4a9cfa1e-e572-48d2-a034-5a455f4325df",
   "metadata": {},
   "outputs": [],
   "source": [
    "G = ox.add_edge_speeds(G)\n",
    "G = ox.add_edge_travel_times(G)"
   ]
  },
  {
   "cell_type": "code",
   "execution_count": 9,
   "id": "99cf5820-93a6-414d-97c9-59417033d76d",
   "metadata": {},
   "outputs": [
    {
     "name": "stdout",
     "output_type": "stream",
     "text": [
      "Затраченное время = 1156 секунд или 19 минут\n"
     ]
    }
   ],
   "source": [
    "route_times = sum(ox.utils_graph.get_route_edge_attributes(G, route, 'travel_time'))\n",
    "print('Затраченное время = %.0f секунд или %.0f минут' % (route_times, route_times/60))"
   ]
  },
  {
   "cell_type": "code",
   "execution_count": null,
   "id": "2cd79b09-82b9-45a3-afe5-cd21ac34db86",
   "metadata": {},
   "outputs": [],
   "source": []
  }
 ],
 "metadata": {
  "kernelspec": {
   "display_name": "Python 3",
   "language": "python",
   "name": "python3"
  },
  "language_info": {
   "codemirror_mode": {
    "name": "ipython",
    "version": 3
   },
   "file_extension": ".py",
   "mimetype": "text/x-python",
   "name": "python",
   "nbconvert_exporter": "python",
   "pygments_lexer": "ipython3",
   "version": "3.9.4"
  }
 },
 "nbformat": 4,
 "nbformat_minor": 5
}
